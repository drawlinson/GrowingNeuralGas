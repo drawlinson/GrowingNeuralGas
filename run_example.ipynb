{
 "cells": [
  {
   "cell_type": "code",
   "execution_count": 1,
   "metadata": {},
   "outputs": [],
   "source": [
    "#from gng import GrowingNeuralGas\n",
    "from gwr import GrowingWhenRequired\n",
    "\n"
   ]
  },
  {
   "cell_type": "code",
   "execution_count": 2,
   "metadata": {},
   "outputs": [],
   "source": [
    "from sklearn import datasets\n",
    "from sklearn.preprocessing import StandardScaler\n",
    "import os\n",
    "import shutil\n"
   ]
  },
  {
   "cell_type": "code",
   "execution_count": 3,
   "metadata": {},
   "outputs": [
    {
     "name": "stdout",
     "output_type": "stream",
     "text": [
      "Preparing data...\n"
     ]
    }
   ],
   "source": [
    "    if os.path.exists('visualization/sequence'):\n",
    "        shutil.rmtree('visualization/sequence')\n",
    "    os.makedirs('visualization/sequence')\n",
    "    n_samples = 2000\n",
    "    dataset_type = 'moons'\n",
    "    data = None\n",
    "    print('Preparing data...')\n"
   ]
  },
  {
   "cell_type": "code",
   "execution_count": 4,
   "metadata": {},
   "outputs": [
    {
     "name": "stdout",
     "output_type": "stream",
     "text": [
      "Done.\n"
     ]
    }
   ],
   "source": [
    "    if dataset_type == 'blobs':\n",
    "        data = datasets.make_blobs(n_samples=n_samples, random_state=8)\n",
    "    elif dataset_type == 'moons':\n",
    "        data = datasets.make_moons(n_samples=n_samples, noise=.05)\n",
    "    elif dataset_type == 'circles':\n",
    "        data = datasets.make_circles(n_samples=n_samples, factor=.5, noise=.05)\n",
    "    data = StandardScaler().fit_transform(data[0])\n",
    "    print('Done.')\n"
   ]
  },
  {
   "cell_type": "code",
   "execution_count": 5,
   "metadata": {},
   "outputs": [
    {
     "name": "stdout",
     "output_type": "stream",
     "text": [
      "Fitting neural network...\n",
      "elems= 2\n"
     ]
    }
   ],
   "source": [
    "print('Fitting neural network...')\n",
    "#gng = GrowingNeuralGas(data)\n",
    "elems = data.shape[1]\n",
    "print('elems=',elems)\n",
    "hparams = GrowingWhenRequired.default_hparams()\n",
    "hparams['num_inputs'] = elems\n",
    "gng = GrowingWhenRequired(hparams)\n"
   ]
  },
  {
   "cell_type": "code",
   "execution_count": 6,
   "metadata": {},
   "outputs": [
    {
     "name": "stdout",
     "output_type": "stream",
     "text": [
      "   Pass #1\n"
     ]
    },
    {
     "name": "stderr",
     "output_type": "stream",
     "text": [
      "/home/dave/anaconda3/envs/dave19d/lib/python3.6/site-packages/networkx/drawing/nx_pylab.py:579: MatplotlibDeprecationWarning: \n",
      "The iterable function was deprecated in Matplotlib 3.1 and will be removed in 3.3. Use np.iterable instead.\n",
      "  if not cb.iterable(width):\n"
     ]
    },
    {
     "name": "stdout",
     "output_type": "stream",
     "text": [
      "   Pass #2\n",
      "   Pass #3\n",
      "   Pass #4\n",
      "   Pass #5\n",
      "   Pass #6\n",
      "   Pass #7\n",
      "   Pass #8\n"
     ]
    },
    {
     "data": {
      "image/png": "[encoded data removed]",
      "text/plain": [
       "<Figure size 432x288 with 1 Axes>"
      ]
     },
     "metadata": {},
     "output_type": "display_data"
    }
   ],
   "source": [
    "    gng.fit_network(data, passes=8, plot_evolution=True)\n"
   ]
  },
  {
   "cell_type": "code",
   "execution_count": 7,
   "metadata": {},
   "outputs": [
    {
     "name": "stdout",
     "output_type": "stream",
     "text": [
      "Found 2 clusters.\n"
     ]
    },
    {
     "ename": "AttributeError",
     "evalue": "'GrowingWhenRequired' object has no attribute 'cluster_data'",
     "output_type": "error",
     "traceback": [
      "\u001b[0;31m---------------------------------------------------------------------------\u001b[0m",
      "\u001b[0;31mAttributeError\u001b[0m                            Traceback (most recent call last)",
      "\u001b[0;32m<ipython-input-7-cd4d01bef713>\u001b[0m in \u001b[0;36m<module>\u001b[0;34m\u001b[0m\n\u001b[1;32m      1\u001b[0m \u001b[0mprint\u001b[0m\u001b[0;34m(\u001b[0m\u001b[0;34m'Found %d clusters.'\u001b[0m \u001b[0;34m%\u001b[0m \u001b[0mgng\u001b[0m\u001b[0;34m.\u001b[0m\u001b[0mnumber_of_clusters\u001b[0m\u001b[0;34m(\u001b[0m\u001b[0;34m)\u001b[0m\u001b[0;34m)\u001b[0m\u001b[0;34m\u001b[0m\u001b[0m\n\u001b[0;32m----> 2\u001b[0;31m \u001b[0mgng\u001b[0m\u001b[0;34m.\u001b[0m\u001b[0mplot_clusters\u001b[0m\u001b[0;34m(\u001b[0m\u001b[0mgng\u001b[0m\u001b[0;34m.\u001b[0m\u001b[0mcluster_data\u001b[0m\u001b[0;34m(\u001b[0m\u001b[0;34m)\u001b[0m\u001b[0;34m)\u001b[0m\u001b[0;34m\u001b[0m\u001b[0m\n\u001b[0m",
      "\u001b[0;31mAttributeError\u001b[0m: 'GrowingWhenRequired' object has no attribute 'cluster_data'"
     ]
    }
   ],
   "source": [
    "print('Found %d clusters.' % gng.number_of_clusters())\n",
    "gng.plot_clusters(gng.cluster_data(data))\n"
   ]
  },
  {
   "cell_type": "code",
   "execution_count": null,
   "metadata": {},
   "outputs": [],
   "source": [
    "print(data.shape)"
   ]
  },
  {
   "cell_type": "code",
   "execution_count": null,
   "metadata": {},
   "outputs": [],
   "source": [
    "self.data[:, 0]"
   ]
  },
  {
   "cell_type": "code",
   "execution_count": null,
   "metadata": {},
   "outputs": [],
   "source": [
    "gng.data[:, 0]"
   ]
  },
  {
   "cell_type": "code",
   "execution_count": null,
   "metadata": {},
   "outputs": [],
   "source": []
  }
 ],
 "metadata": {
  "kernelspec": {
   "display_name": "Python 3",
   "language": "python",
   "name": "python3"
  },
  "language_info": {
   "codemirror_mode": {
    "name": "ipython",
    "version": 3
   },
   "file_extension": ".py",
   "mimetype": "text/x-python",
   "name": "python",
   "nbconvert_exporter": "python",
   "pygments_lexer": "ipython3",
   "version": "3.6.2"
  }
 },
 "nbformat": 4,
 "nbformat_minor": 4
}
